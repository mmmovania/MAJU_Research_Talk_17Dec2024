{
  "nbformat": 4,
  "nbformat_minor": 0,
  "metadata": {
    "colab": {
      "name": "TestCustom.ipynb",
      "provenance": [],
      "authorship_tag": "ABX9TyP8ClValNJzsr06BIFBGL8H",
      "include_colab_link": true
    },
    "kernelspec": {
      "name": "python3",
      "display_name": "Python 3"
    },
    "language_info": {
      "name": "python"
    },
    "accelerator": "GPU"
  },
  "cells": [
    {
      "cell_type": "markdown",
      "metadata": {
        "id": "view-in-github",
        "colab_type": "text"
      },
      "source": [
        "<a href=\"https://colab.research.google.com/github/mmmovania/CUDA_Spring_2024/blob/main/Week1/TestCustom.ipynb\" target=\"_parent\"><img src=\"https://colab.research.google.com/assets/colab-badge.svg\" alt=\"Open In Colab\"/></a>"
      ]
    },
    {
      "cell_type": "markdown",
      "source": [
        "We run the nvcc compiler for compiling C code inside Google colab environment. If everything goes well, we should get the version of the nvcc compiler written on the output."
      ],
      "metadata": {
        "id": "VCiN1wGYNlij"
      }
    },
    {
      "cell_type": "code",
      "source": [
        "!nvcc --version"
      ],
      "metadata": {
        "colab": {
          "base_uri": "https://localhost:8080/"
        },
        "id": "DaNUb1B8tGK6",
        "outputId": "0d9eb009-344d-4409-e922-bcf37be20ab3"
      },
      "execution_count": null,
      "outputs": [
        {
          "output_type": "stream",
          "name": "stdout",
          "text": [
            "nvcc: NVIDIA (R) Cuda compiler driver\n",
            "Copyright (c) 2005-2021 NVIDIA Corporation\n",
            "Built on Sun_Feb_14_21:12:58_PST_2021\n",
            "Cuda compilation tools, release 11.2, V11.2.152\n",
            "Build cuda_11.2.r11.2/compiler.29618528_0\n"
          ]
        }
      ]
    },
    {
      "cell_type": "markdown",
      "source": [
        "Next, we try to compile our own code test.cu. You can either create the test.cu file manually and upload it or you can generate it. We will do the later process of generating the code from jupyter notebook. Run the following cell and it should output test.cu insides your content folder."
      ],
      "metadata": {
        "id": "eqHVk6coNyDm"
      }
    },
    {
      "cell_type": "code",
      "source": [
        "%%writefile /content/test.cu\n",
        "//test.cu generated using jupyter colab environment\n",
        "#include <stdio.h>\n",
        "\n",
        "//define our kernel function\n",
        "__global__ void HelloKernel() {\n",
        "    printf(\"\\tHello from GPU (device)\\n\");\n",
        "}\n",
        "\n",
        "//define our main function\n",
        "int main() {\n",
        "  printf(\"Hello from CPU (host) before kernel execution\\n\");\n",
        "  HelloKernel<<<1,32>>>();\n",
        "  cudaDeviceSynchronize();\n",
        "  printf(\"Hello from CPU (host) after kernel execution\\n\");\n",
        "  return 0;\n",
        "}"
      ],
      "metadata": {
        "id": "ET5WUljjO-OP",
        "outputId": "490c4fd6-4425-4024-f9af-3db28eefc4cb",
        "colab": {
          "base_uri": "https://localhost:8080/"
        }
      },
      "execution_count": null,
      "outputs": [
        {
          "output_type": "stream",
          "name": "stdout",
          "text": [
            "Overwriting /content/test.cu\n"
          ]
        }
      ]
    },
    {
      "cell_type": "markdown",
      "source": [
        "We then compile the generated code file /content/test.cu by using the command nvcc input_filename -o output_filename."
      ],
      "metadata": {
        "id": "HH_VPSa9PuEt"
      }
    },
    {
      "cell_type": "code",
      "source": [
        "!nvcc /content/test.cu -o test"
      ],
      "metadata": {
        "id": "sAHeA1vLtJ5q"
      },
      "execution_count": null,
      "outputs": []
    },
    {
      "cell_type": "markdown",
      "source": [
        "If the code is syntactically correct, the output should not have anything in it. We then try running the code using ./test file since this was the name of the output file during compilation. Note that our current directory is the content folder so we donot have to prepend the /content/ folder to the filename. If all goes well, we should get the two statements from CPU and within them the GPU outputs will be sandwitched."
      ],
      "metadata": {
        "id": "2q0qb8P1P2W3"
      }
    },
    {
      "cell_type": "code",
      "source": [
        "!./test"
      ],
      "metadata": {
        "colab": {
          "base_uri": "https://localhost:8080/"
        },
        "id": "heFe3XJIu-0r",
        "outputId": "27b1f790-1d36-4868-d15e-ca6b62e5cf2d"
      },
      "execution_count": null,
      "outputs": [
        {
          "output_type": "stream",
          "name": "stdout",
          "text": [
            "Hello from CPU (host) before kernel execution\n",
            "\tHello from GPU (device)\n",
            "\tHello from GPU (device)\n",
            "\tHello from GPU (device)\n",
            "\tHello from GPU (device)\n",
            "\tHello from GPU (device)\n",
            "\tHello from GPU (device)\n",
            "\tHello from GPU (device)\n",
            "\tHello from GPU (device)\n",
            "\tHello from GPU (device)\n",
            "\tHello from GPU (device)\n",
            "\tHello from GPU (device)\n",
            "\tHello from GPU (device)\n",
            "\tHello from GPU (device)\n",
            "\tHello from GPU (device)\n",
            "\tHello from GPU (device)\n",
            "\tHello from GPU (device)\n",
            "\tHello from GPU (device)\n",
            "\tHello from GPU (device)\n",
            "\tHello from GPU (device)\n",
            "\tHello from GPU (device)\n",
            "\tHello from GPU (device)\n",
            "\tHello from GPU (device)\n",
            "\tHello from GPU (device)\n",
            "\tHello from GPU (device)\n",
            "\tHello from GPU (device)\n",
            "\tHello from GPU (device)\n",
            "\tHello from GPU (device)\n",
            "\tHello from GPU (device)\n",
            "\tHello from GPU (device)\n",
            "\tHello from GPU (device)\n",
            "\tHello from GPU (device)\n",
            "\tHello from GPU (device)\n",
            "Hello from CPU (host) after kernel execution\n"
          ]
        }
      ]
    }
  ]
}