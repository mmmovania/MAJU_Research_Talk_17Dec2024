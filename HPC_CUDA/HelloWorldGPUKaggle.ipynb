{
 "cells": [
  {
   "cell_type": "code",
   "execution_count": 1,
   "metadata": {
    "_cell_guid": "b1076dfc-b9ad-4769-8c92-a6c4dae69d19",
    "_uuid": "8f2839f25d086af736a60e9eeb907d3b93b6e0e5",
    "execution": {
     "iopub.execute_input": "2023-01-07T08:24:42.375072Z",
     "iopub.status.busy": "2023-01-07T08:24:42.374586Z",
     "iopub.status.idle": "2023-01-07T08:24:55.565216Z",
     "shell.execute_reply": "2023-01-07T08:24:55.563915Z",
     "shell.execute_reply.started": "2023-01-07T08:24:42.374977Z"
    },
    "trusted": true
   },
   "outputs": [
    {
     "name": "stdout",
     "output_type": "stream",
     "text": [
      "Collecting git+https://github.com/andreinechaev/nvcc4jupyter.git\n",
      "  Cloning https://github.com/andreinechaev/nvcc4jupyter.git to /tmp/pip-req-build-dm2sykj6\n",
      "  Running command git clone --filter=blob:none --quiet https://github.com/andreinechaev/nvcc4jupyter.git /tmp/pip-req-build-dm2sykj6\n",
      "  Resolved https://github.com/andreinechaev/nvcc4jupyter.git to commit aac710a35f52bb78ab34d2e52517237941399eff\n",
      "  Preparing metadata (setup.py) ... \u001b[?25ldone\n",
      "\u001b[?25hBuilding wheels for collected packages: NVCCPlugin\n",
      "  Building wheel for NVCCPlugin (setup.py) ... \u001b[?25ldone\n",
      "\u001b[?25h  Created wheel for NVCCPlugin: filename=NVCCPlugin-0.0.2-py3-none-any.whl size=4306 sha256=78a30f6f6068f66f2fd67f3eee76a55d5c915ca289fa380ddac43ec79839688f\n",
      "  Stored in directory: /tmp/pip-ephem-wheel-cache-et3bpkzx/wheels/ca/33/8d/3c86eb85e97d2b6169d95c6e8f2c297fdec60db6e84cb56f5e\n",
      "Successfully built NVCCPlugin\n",
      "Installing collected packages: NVCCPlugin\n",
      "Successfully installed NVCCPlugin-0.0.2\n",
      "\u001b[33mWARNING: Running pip as the 'root' user can result in broken permissions and conflicting behaviour with the system package manager. It is recommended to use a virtual environment instead: https://pip.pypa.io/warnings/venv\u001b[0m\u001b[33m\n",
      "\u001b[0mcreated output directory at /kaggle/working/src\n",
      "Out bin /kaggle/working/result.out\n"
     ]
    }
   ],
   "source": [
    "!pip install git+https://github.com/andreinechaev/nvcc4jupyter.git\n",
    "%load_ext nvcc4jupyter"
   ]
  },
  {
   "cell_type": "code",
   "execution_count": 3,
   "metadata": {
    "execution": {
     "iopub.execute_input": "2023-01-07T08:25:13.548923Z",
     "iopub.status.busy": "2023-01-07T08:25:13.548168Z",
     "iopub.status.idle": "2023-01-07T08:25:14.902098Z",
     "shell.execute_reply": "2023-01-07T08:25:14.900708Z",
     "shell.execute_reply.started": "2023-01-07T08:25:13.548882Z"
    },
    "trusted": true
   },
   "outputs": [
    {
     "name": "stdout",
     "output_type": "stream",
     "text": [
      "Hello from CPU (host) before kernel execution\n",
      "\tHello from GPU (device)\n",
      "\tHello from GPU (device)\n",
      "\tHello from GPU (device)\n",
      "\tHello from GPU (device)\n",
      "\tHello from GPU (device)\n",
      "\tHello from GPU (device)\n",
      "\tHello from GPU (device)\n",
      "\tHello from GPU (device)\n",
      "\tHello from GPU (device)\n",
      "\tHello from GPU (device)\n",
      "\tHello from GPU (device)\n",
      "\tHello from GPU (device)\n",
      "\tHello from GPU (device)\n",
      "\tHello from GPU (device)\n",
      "\tHello from GPU (device)\n",
      "\tHello from GPU (device)\n",
      "\tHello from GPU (device)\n",
      "\tHello from GPU (device)\n",
      "\tHello from GPU (device)\n",
      "\tHello from GPU (device)\n",
      "\tHello from GPU (device)\n",
      "\tHello from GPU (device)\n",
      "\tHello from GPU (device)\n",
      "\tHello from GPU (device)\n",
      "\tHello from GPU (device)\n",
      "\tHello from GPU (device)\n",
      "\tHello from GPU (device)\n",
      "\tHello from GPU (device)\n",
      "\tHello from GPU (device)\n",
      "\tHello from GPU (device)\n",
      "\tHello from GPU (device)\n",
      "\tHello from GPU (device)\n",
      "Hello from CPU (host) after kernel execution\n",
      "\n"
     ]
    }
   ],
   "source": [
    "%%cuda\n",
    "#include <stdio.h>\n",
    "\n",
    "__global__ void HelloKernel() {\n",
    "    printf(\"\\tHello from GPU (device)\\n\");\n",
    "}\n",
    "\n",
    "int main() {\n",
    "  printf(\"Hello from CPU (host) before kernel execution\\n\");\n",
    "  HelloKernel<<<1,32>>>();\n",
    "  cudaDeviceSynchronize();\n",
    "  printf(\"Hello from CPU (host) after kernel execution\\n\");\n",
    "  return 0;\n",
    "}"
   ]
  }
 ],
 "metadata": {
  "kernelspec": {
   "display_name": "Python 3",
   "language": "python",
   "name": "python3"
  },
  "language_info": {
   "codemirror_mode": {
    "name": "ipython",
    "version": 3
   },
   "file_extension": ".py",
   "mimetype": "text/x-python",
   "name": "python",
   "nbconvert_exporter": "python",
   "pygments_lexer": "ipython3",
   "version": "3.7.12"
  }
 },
 "nbformat": 4,
 "nbformat_minor": 4
}
